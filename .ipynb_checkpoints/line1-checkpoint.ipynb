{
 "cells": [
  {
   "cell_type": "code",
   "execution_count": 1,
   "id": "fbc3d053-0d7d-4c1f-84fa-299b2d3efb72",
   "metadata": {},
   "outputs": [],
   "source": [
    "from matplotlib.animation import FuncAnimation\n",
    "from matplotlib import pyplot as plt\n",
    "from itertools import count\n",
    "import pandas as pd"
   ]
  },
  {
   "cell_type": "code",
   "execution_count": 2,
   "id": "0fb09ecd-b0fd-48df-8a1d-54242386ed20",
   "metadata": {},
   "outputs": [
    {
     "ename": "IndentationError",
     "evalue": "expected an indented block after function definition on line 11 (2530629040.py, line 15)",
     "output_type": "error",
     "traceback": [
      "\u001b[0;36m  Cell \u001b[0;32mIn[2], line 15\u001b[0;36m\u001b[0m\n\u001b[0;31m    anim = FuncAnimation(fig, animate, frames=1000, interval=100)\u001b[0m\n\u001b[0m    ^\u001b[0m\n\u001b[0;31mIndentationError\u001b[0m\u001b[0;31m:\u001b[0m expected an indented block after function definition on line 11\n"
     ]
    }
   ],
   "source": [
    "x_vals = []\n",
    "y_vals = []\n",
    "\n",
    "index = count()\n",
    "\n",
    "def init_func():\n",
    "    ax.clear # clear previous line\n",
    "    plt.xlabel('Time (S)')\n",
    "    plt.ylabel(\"Confidence Level (%)\")\n",
    "    \n",
    "def animate (frame):\n",
    "    x_vals.append(next(index))\n",
    "    y_vals.append(random.randint(0, 5))\n",
    "\n",
    "# interval = time between each frame\n",
    "# duration = frames / interval = 30s\n",
    "anim = FuncAnimation(plt.gcf(),\n",
    "                     animate,\n",
    "                     frames=3000,\n",
    "                     init_func=init_func,\n",
    "                     interval=100)\n",
    "\n",
    "anim.save('30s85.mp4', dpi=150, fps=10, writer='ffmpeg')"
   ]
  },
  {
   "cell_type": "code",
   "execution_count": null,
   "id": "746b305a-72f4-44c8-9b06-977670323242",
   "metadata": {},
   "outputs": [],
   "source": []
  }
 ],
 "metadata": {
  "kernelspec": {
   "display_name": "Python 3 (ipykernel)",
   "language": "python",
   "name": "python3"
  },
  "language_info": {
   "codemirror_mode": {
    "name": "ipython",
    "version": 3
   },
   "file_extension": ".py",
   "mimetype": "text/x-python",
   "name": "python",
   "nbconvert_exporter": "python",
   "pygments_lexer": "ipython3",
   "version": "3.11.3"
  }
 },
 "nbformat": 4,
 "nbformat_minor": 5
}
