{
 "cells": [
  {
   "cell_type": "code",
   "execution_count": 4,
   "id": "fbc3d053-0d7d-4c1f-84fa-299b2d3efb72",
   "metadata": {},
   "outputs": [
    {
     "ename": "ModuleNotFoundError",
     "evalue": "No module named 'pandas'",
     "output_type": "error",
     "traceback": [
      "\u001b[0;31m---------------------------------------------------------------------------\u001b[0m",
      "\u001b[0;31mModuleNotFoundError\u001b[0m                       Traceback (most recent call last)",
      "Cell \u001b[0;32mIn[4], line 4\u001b[0m\n\u001b[1;32m      2\u001b[0m \u001b[38;5;28;01mfrom\u001b[39;00m \u001b[38;5;21;01mmatplotlib\u001b[39;00m \u001b[38;5;28;01mimport\u001b[39;00m pyplot \u001b[38;5;28;01mas\u001b[39;00m plt\n\u001b[1;32m      3\u001b[0m \u001b[38;5;28;01mfrom\u001b[39;00m \u001b[38;5;21;01mitertools\u001b[39;00m \u001b[38;5;28;01mimport\u001b[39;00m count\n\u001b[0;32m----> 4\u001b[0m \u001b[38;5;28;01mimport\u001b[39;00m \u001b[38;5;21;01mpandas\u001b[39;00m \u001b[38;5;28;01mas\u001b[39;00m \u001b[38;5;21;01mpd\u001b[39;00m\n",
      "\u001b[0;31mModuleNotFoundError\u001b[0m: No module named 'pandas'"
     ]
    }
   ],
   "source": [
    "from matplotlib.animation import FuncAnimation\n",
    "from matplotlib import pyplot as plt\n",
    "from itertools import count\n",
    "import pandas as pd"
   ]
  },
  {
   "cell_type": "code",
   "execution_count": 3,
   "id": "0fb09ecd-b0fd-48df-8a1d-54242386ed20",
   "metadata": {},
   "outputs": [
    {
     "ename": "NameError",
     "evalue": "name 'count' is not defined",
     "output_type": "error",
     "traceback": [
      "\u001b[0;31m---------------------------------------------------------------------------\u001b[0m",
      "\u001b[0;31mNameError\u001b[0m                                 Traceback (most recent call last)",
      "Cell \u001b[0;32mIn[3], line 4\u001b[0m\n\u001b[1;32m      1\u001b[0m x_vals \u001b[38;5;241m=\u001b[39m []\n\u001b[1;32m      2\u001b[0m y_vals \u001b[38;5;241m=\u001b[39m []\n\u001b[0;32m----> 4\u001b[0m index \u001b[38;5;241m=\u001b[39m \u001b[43mcount\u001b[49m()\n\u001b[1;32m      6\u001b[0m \u001b[38;5;28;01mdef\u001b[39;00m \u001b[38;5;21minit_func\u001b[39m():\n\u001b[1;32m      7\u001b[0m     ax\u001b[38;5;241m.\u001b[39mclear \u001b[38;5;66;03m# clear previous line\u001b[39;00m\n",
      "\u001b[0;31mNameError\u001b[0m: name 'count' is not defined"
     ]
    }
   ],
   "source": [
    "x_vals = []\n",
    "y_vals = []\n",
    "\n",
    "index = count()\n",
    "\n",
    "def init_func():\n",
    "    ax.clear # clear previous line\n",
    "    plt.xlabel('Time (S)')\n",
    "    plt.ylabel(\"Confidence Level (%)\")\n",
    "    \n",
    "def animate (frame):\n",
    "    x_vals.append(next(index))\n",
    "    y_vals.append(random.randint(0, 5))\n",
    "\n",
    "# interval = time between each frame\n",
    "# duration = frames / interval = 30s\n",
    "anim = FuncAnimation(plt.gcf(),\n",
    "                     animate,\n",
    "                     frames=3000,\n",
    "                     init_func=init_func,\n",
    "                     interval=100)\n",
    "\n",
    "anim.save('30s85.mp4', dpi=150, fps=10, writer='ffmpeg')"
   ]
  },
  {
   "cell_type": "code",
   "execution_count": null,
   "id": "746b305a-72f4-44c8-9b06-977670323242",
   "metadata": {},
   "outputs": [],
   "source": []
  }
 ],
 "metadata": {
  "kernelspec": {
   "display_name": "Python 3 (ipykernel)",
   "language": "python",
   "name": "python3"
  },
  "language_info": {
   "codemirror_mode": {
    "name": "ipython",
    "version": 3
   },
   "file_extension": ".py",
   "mimetype": "text/x-python",
   "name": "python",
   "nbconvert_exporter": "python",
   "pygments_lexer": "ipython3",
   "version": "3.11.3"
  }
 },
 "nbformat": 4,
 "nbformat_minor": 5
}
